{
  "nbformat": 4,
  "nbformat_minor": 0,
  "metadata": {
    "colab": {
      "name": "CryptoPricePredictionPytorch.ipynb",
      "provenance": [],
      "authorship_tag": "ABX9TyOQeUEzHqOXAbCMsczZzJvh",
      "include_colab_link": true
    },
    "kernelspec": {
      "name": "python3",
      "display_name": "Python 3"
    },
    "language_info": {
      "name": "python"
    }
  },
  "cells": [
    {
      "cell_type": "markdown",
      "metadata": {
        "id": "view-in-github",
        "colab_type": "text"
      },
      "source": [
        "<a href=\"https://colab.research.google.com/github/javadvahid/frontend-learning/blob/master/CryptoPricePredictionPytorch.ipynb\" target=\"_parent\"><img src=\"https://colab.research.google.com/assets/colab-badge.svg\" alt=\"Open In Colab\"/></a>"
      ]
    },
    {
      "cell_type": "code",
      "metadata": {
        "id": "6ruSTIyfDgT5"
      },
      "source": [
        "import torch\n",
        "import torch.nn as nn\n",
        "import pandas as pd\n",
        "import numpy as np\n",
        "from sklearn.preprocessing import MinMaxScaler"
      ],
      "execution_count": null,
      "outputs": []
    },
    {
      "cell_type": "code",
      "metadata": {
        "id": "AT_YC6t0T0Om"
      },
      "source": [
        "#read data download from cryptodatadownload.com\n",
        "data = pd.read_csv(\"/content/Bitfinex_BTCUSD_d.csv\")"
      ],
      "execution_count": null,
      "outputs": []
    },
    {
      "cell_type": "code",
      "metadata": {
        "colab": {
          "base_uri": "https://localhost:8080/",
          "height": 195
        },
        "id": "RF0Mhw-AWH_N",
        "outputId": "b4fc8c09-92fb-47ab-ef17-5b06ff3da529"
      },
      "source": [
        "data.head()\n"
      ],
      "execution_count": null,
      "outputs": [
        {
          "output_type": "execute_result",
          "data": {
            "text/html": [
              "<div>\n",
              "<style scoped>\n",
              "    .dataframe tbody tr th:only-of-type {\n",
              "        vertical-align: middle;\n",
              "    }\n",
              "\n",
              "    .dataframe tbody tr th {\n",
              "        vertical-align: top;\n",
              "    }\n",
              "\n",
              "    .dataframe thead th {\n",
              "        text-align: right;\n",
              "    }\n",
              "</style>\n",
              "<table border=\"1\" class=\"dataframe\">\n",
              "  <thead>\n",
              "    <tr style=\"text-align: right;\">\n",
              "      <th></th>\n",
              "      <th>unix</th>\n",
              "      <th>date</th>\n",
              "      <th>symbol</th>\n",
              "      <th>open</th>\n",
              "      <th>high</th>\n",
              "      <th>low</th>\n",
              "      <th>close</th>\n",
              "      <th>Volume USD</th>\n",
              "      <th>Volume BTC</th>\n",
              "    </tr>\n",
              "  </thead>\n",
              "  <tbody>\n",
              "    <tr>\n",
              "      <th>0</th>\n",
              "      <td>1.625440e+12</td>\n",
              "      <td>7/5/2021 0:00</td>\n",
              "      <td>BTC/USD</td>\n",
              "      <td>35278.00000</td>\n",
              "      <td>35280.0</td>\n",
              "      <td>34851.0</td>\n",
              "      <td>34913.00000</td>\n",
              "      <td>8.843958e+06</td>\n",
              "      <td>253.314189</td>\n",
              "    </tr>\n",
              "    <tr>\n",
              "      <th>1</th>\n",
              "      <td>1.625360e+12</td>\n",
              "      <td>7/4/2021 0:00</td>\n",
              "      <td>BTC/USD</td>\n",
              "      <td>34689.00000</td>\n",
              "      <td>35950.0</td>\n",
              "      <td>34376.0</td>\n",
              "      <td>35276.00000</td>\n",
              "      <td>1.033442e+08</td>\n",
              "      <td>2929.589307</td>\n",
              "    </tr>\n",
              "    <tr>\n",
              "      <th>2</th>\n",
              "      <td>1.625270e+12</td>\n",
              "      <td>7/3/2021 0:00</td>\n",
              "      <td>BTC/USD</td>\n",
              "      <td>33818.00000</td>\n",
              "      <td>34948.0</td>\n",
              "      <td>33350.0</td>\n",
              "      <td>34682.00000</td>\n",
              "      <td>1.028887e+08</td>\n",
              "      <td>2966.629686</td>\n",
              "    </tr>\n",
              "    <tr>\n",
              "      <th>3</th>\n",
              "      <td>1.625180e+12</td>\n",
              "      <td>7/2/2021 0:00</td>\n",
              "      <td>BTC/USD</td>\n",
              "      <td>33519.46745</td>\n",
              "      <td>33983.0</td>\n",
              "      <td>32700.0</td>\n",
              "      <td>33816.00000</td>\n",
              "      <td>1.739982e+08</td>\n",
              "      <td>5145.439921</td>\n",
              "    </tr>\n",
              "    <tr>\n",
              "      <th>4</th>\n",
              "      <td>1.625100e+12</td>\n",
              "      <td>7/1/2021 0:00</td>\n",
              "      <td>BTC/USD</td>\n",
              "      <td>35062.00000</td>\n",
              "      <td>35069.0</td>\n",
              "      <td>32720.0</td>\n",
              "      <td>33554.42277</td>\n",
              "      <td>1.920285e+08</td>\n",
              "      <td>5722.895795</td>\n",
              "    </tr>\n",
              "  </tbody>\n",
              "</table>\n",
              "</div>"
            ],
            "text/plain": [
              "           unix           date   symbol  ...        close    Volume USD   Volume BTC\n",
              "0  1.625440e+12  7/5/2021 0:00  BTC/USD  ...  34913.00000  8.843958e+06   253.314189\n",
              "1  1.625360e+12  7/4/2021 0:00  BTC/USD  ...  35276.00000  1.033442e+08  2929.589307\n",
              "2  1.625270e+12  7/3/2021 0:00  BTC/USD  ...  34682.00000  1.028887e+08  2966.629686\n",
              "3  1.625180e+12  7/2/2021 0:00  BTC/USD  ...  33816.00000  1.739982e+08  5145.439921\n",
              "4  1.625100e+12  7/1/2021 0:00  BTC/USD  ...  33554.42277  1.920285e+08  5722.895795\n",
              "\n",
              "[5 rows x 9 columns]"
            ]
          },
          "metadata": {
            "tags": []
          },
          "execution_count": 14
        }
      ]
    },
    {
      "cell_type": "code",
      "metadata": {
        "id": "_ORvSGCvWKgD"
      },
      "source": [
        "dataPrice = data.close"
      ],
      "execution_count": null,
      "outputs": []
    },
    {
      "cell_type": "code",
      "metadata": {
        "id": "dyjkzP4ybb9N"
      },
      "source": [
        "#preparing train and test data\n",
        "dp_train = dataPrice[:1872].values # 80% of 2339 for train\n",
        "dp_test = dataPrice[1872:].values # 20% of 2339 for test"
      ],
      "execution_count": null,
      "outputs": []
    },
    {
      "cell_type": "code",
      "metadata": {
        "id": "sP9548ZudBy6"
      },
      "source": [
        ""
      ],
      "execution_count": null,
      "outputs": []
    }
  ]
}